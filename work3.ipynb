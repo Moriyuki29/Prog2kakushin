{
  "nbformat": 4,
  "nbformat_minor": 0,
  "metadata": {
    "colab": {
      "provenance": [],
      "authorship_tag": "ABX9TyO5duYxAXQG2ckpPe86YFxL",
      "include_colab_link": true
    },
    "kernelspec": {
      "name": "python3",
      "display_name": "Python 3"
    },
    "language_info": {
      "name": "python"
    }
  },
  "cells": [
    {
      "cell_type": "markdown",
      "metadata": {
        "id": "view-in-github",
        "colab_type": "text"
      },
      "source": [
        "<a href=\"https://colab.research.google.com/github/Moriyuki29/Prog2kakushin/blob/main/work3.ipynb\" target=\"_parent\"><img src=\"https://colab.research.google.com/assets/colab-badge.svg\" alt=\"Open In Colab\"/></a>"
      ]
    },
    {
      "cell_type": "code",
      "execution_count": null,
      "metadata": {
        "id": "vrk4k0f6JuBp"
      },
      "outputs": [],
      "source": [
        "!wget \"https://drive.google.com/uc?export=download&id=1ldYmC7RLSwKhh1wK-RVAYsVONuHd2z9Z\" -O images.zip\n",
        "!unzip -o images.zip\n",
        "!wget \"https://drive.google.com/uc?export=download&id=12rAHWznDTZwyt0DXv7VDSOhcwjjsLQI8\" -O answer.zip\n",
        "!unzip -o answer.zip"
      ]
    },
    {
      "cell_type": "code",
      "source": [
        "import numpy as np\n",
        "import cv2\n",
        "import sys\n",
        "from google.colab.patches import cv2_imshow\n",
        "from PIL import Image\n",
        "import random"
      ],
      "metadata": {
        "id": "Of81sauF8bDG"
      },
      "execution_count": null,
      "outputs": []
    },
    {
      "cell_type": "code",
      "source": [
        "def mosaic(src, ratio=0.1):\n",
        "    small = cv2.resize(src, None, fx=ratio, fy=ratio, interpolation=cv2.INTER_NEAREST)\n",
        "    return cv2.resize(small, src.shape[:2][::-1], interpolation=cv2.INTER_NEAREST)\n",
        "img_question=cv2.imread(\"/content/illist/food_kanitama_tenshinhan.png\")\n",
        "print(\"答えは　てんしんはん　です\")\n",
        "for j in reversed(range(1,30,5)):\n",
        "  cv2_imshow(mosaic(img_question,1/j))\n",
        "  ans=input(\"答えは？:\")\n",
        "  if ans==\"てんしんはん\":\n",
        "    print(\"正解!!\")\n",
        "    print(str(j//5+1)+\"ポイントです\")\n",
        "    break\n",
        "  elif j==1:\n",
        "    print(\"残念...\\n答えはてんしんはん\")"
      ],
      "metadata": {
        "id": "opXiWyA08qao"
      },
      "execution_count": null,
      "outputs": []
    },
    {
      "cell_type": "code",
      "source": [
        "def mosaic(src, ratio=0.1):\n",
        "    small = cv2.resize(src, None, fx=ratio, fy=ratio, interpolation=cv2.INTER_NEAREST)\n",
        "    return cv2.resize(small, src.shape[:2][::-1], interpolation=cv2.INTER_NEAREST)\n",
        "answer_list=[\"ほんだな\",\"ぶーめらん\",\"てれび\",\"さんたくろーす\",\"じゃがいも\",\"りんご\",\"うちわ\",\"さらだ\",\"れっさーぱんだ\",\"らじお\",\"ねずみ\",\"しんかんせん\"]\n",
        "ans_num=random.randint(0,12)\n",
        "ans_str=(\"/content/answer/a\"+str(ans_num)+\".png\")\n",
        "ans_illust=cv2.imread(ans_str)\n",
        "for j in reversed(range(1,30,5)):\n",
        "  cv2_imshow(mosaic(ans_illust,1/j))\n",
        "  ans=input(\"答えは？:\")\n",
        "  if ans==answer_list[ans_num]:\n",
        "    print(\"正解!!\")\n",
        "    print(str(j//5+1)+\"ポイントです\")\n",
        "    break\n",
        "  elif j==1:\n",
        "    print(\"残念...\\n答えは \"+str(answer_list[ans_num]))"
      ],
      "metadata": {
        "colab": {
          "base_uri": "https://localhost:8080/",
          "height": 1000
        },
        "id": "bZqfypxKTn4p",
        "outputId": "403705a6-d4c7-44fc-f3cc-067ff23cef10"
      },
      "execution_count": null,
      "outputs": [
        {
          "output_type": "display_data",
          "data": {
            "text/plain": [
              "<PIL.Image.Image image mode=RGB size=400x348>"
            ],
            "image/png": "[encoded data removed]"
          },
          "metadata": {}
        },
        {
          "name": "stdout",
          "output_type": "stream",
          "text": [
            "答えは？:ふぁ\n"
          ]
        },
        {
          "output_type": "display_data",
          "data": {
            "text/plain": [
              "<PIL.Image.Image image mode=RGB size=400x348>"
            ],
            "image/png": "[encoded data removed]"
          },
          "metadata": {}
        },
        {
          "name": "stdout",
          "output_type": "stream",
          "text": [
            "答えは？:sa\n"
          ]
        },
        {
          "output_type": "display_data",
          "data": {
            "text/plain": [
              "<PIL.Image.Image image mode=RGB size=400x348>"
            ],
            "image/png": "[encoded data removed]"
          },
          "metadata": {}
        },
        {
          "output_type": "stream",
          "name": "stdout",
          "text": [
            "答えは？:ぶーめらん\n",
            "正解!!\n",
            "4ポイントです\n"
          ]
        }
      ]
    }
  ]
}