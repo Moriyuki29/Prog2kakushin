{
  "nbformat": 4,
  "nbformat_minor": 0,
  "metadata": {
    "colab": {
      "provenance": [],
      "authorship_tag": "ABX9TyPocu+ICt6Kqbo9YncwPSDd",
      "include_colab_link": true
    },
    "kernelspec": {
      "name": "python3",
      "display_name": "Python 3"
    },
    "language_info": {
      "name": "python"
    }
  },
  "cells": [
    {
      "cell_type": "markdown",
      "metadata": {
        "id": "view-in-github",
        "colab_type": "text"
      },
      "source": [
        "<a href=\"https://colab.research.google.com/github/Moriyuki29/Prog2kakushin/blob/main/work3.ipynb\" target=\"_parent\"><img src=\"https://colab.research.google.com/assets/colab-badge.svg\" alt=\"Open In Colab\"/></a>"
      ]
    },
    {
      "cell_type": "code",
      "execution_count": null,
      "metadata": {
        "id": "vrk4k0f6JuBp"
      },
      "outputs": [],
      "source": [
        "!wget \"https://drive.google.com/uc?export=download&id=1H2QEpYDJ2uxoKNlSe6rD79j1rnAFBPDP\" -O images.zip\n",
        "!unzip -o images.zip"
      ]
    },
    {
      "cell_type": "code",
      "source": [
        "import numpy as np\n",
        "import cv2\n",
        "import sys\n",
        "from google.colab.patches import cv2_imshow"
      ],
      "metadata": {
        "id": "Of81sauF8bDG"
      },
      "execution_count": null,
      "outputs": []
    },
    {
      "cell_type": "code",
      "source": [],
      "metadata": {
        "id": "opXiWyA08qao"
      },
      "execution_count": null,
      "outputs": []
    }
  ]
}